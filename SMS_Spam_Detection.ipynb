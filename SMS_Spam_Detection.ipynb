{
  "nbformat": 4,
  "nbformat_minor": 0,
  "metadata": {
    "colab": {
      "provenance": []
    },
    "kernelspec": {
      "name": "python3",
      "display_name": "Python 3"
    },
    "language_info": {
      "name": "python"
    }
  },
  "cells": [
    {
      "cell_type": "code",
      "execution_count": null,
      "metadata": {
        "colab": {
          "base_uri": "https://localhost:8080/"
        },
        "id": "0uPsWzlVhi6F",
        "outputId": "ba18ee54-52c4-4b95-8483-d3dd775c2ba3"
      },
      "outputs": [
        {
          "output_type": "stream",
          "name": "stderr",
          "text": [
            "[nltk_data] Downloading package stopwords to /root/nltk_data...\n",
            "[nltk_data]   Package stopwords is already up-to-date!\n",
            "[nltk_data] Downloading package wordnet to /root/nltk_data...\n",
            "[nltk_data]   Package wordnet is already up-to-date!\n"
          ]
        }
      ],
      "source": [
        "import numpy as np\n",
        "import pandas as pd\n",
        "import string\n",
        "import nltk\n",
        "nltk.download('stopwords')\n",
        "nltk.download('wordnet')\n",
        "from nltk.corpus import stopwords\n",
        "from nltk.stem import WordNetLemmatizer\n",
        "from sklearn.model_selection import train_test_split\n",
        "from sklearn.naive_bayes import MultinomialNB\n",
        "from sklearn.metrics import accuracy_score, classification_report\n",
        "from sklearn.feature_extraction.text import TfidfVectorizer\n",
        "# Load dataset\n",
        "messages = pd.read_csv('/content/spam.csv', encoding='latin-1')\n",
        "messages = messages.drop(columns=[\"Unnamed: 2\", \"Unnamed: 3\", \"Unnamed: 4\"])\n",
        "messages.columns = [\"label\", \"message\"]\n",
        "\n",
        "# Convert labels to numerical values\n",
        "messages['label'] = messages['label'].map({'ham': 0, 'spam': 1})  # Map 'ham' -> 0, 'spam' -> 1\n",
        "\n",
        "# Define text preprocessing function\n",
        "def text_preprocess(mess):\n",
        "    lemmatizer = WordNetLemmatizer()\n",
        "    nopunc = ''.join([char.lower() for char in mess if char not in string.punctuation])\n",
        "    words = [lemmatizer.lemmatize(word) for word in nopunc.split() if word not in stopwords.words('english') and word.isalpha()]\n",
        "    return ' '.join(words)  # Convert list back to string\n",
        "\n",
        "# Apply text preprocessing\n",
        "messages[\"message\"] = messages[\"message\"].apply(text_preprocess)\n",
        "\n",
        "# Convert text into numerical features\n",
        "vectorizer = TfidfVectorizer()\n",
        "X = vectorizer.fit_transform(messages[\"message\"])\n",
        "y = messages[\"label\"]\n",
        "\n",
        "# Split data\n",
        "X_train, X_test, y_train, y_test = train_test_split(X, y, test_size=0.2, random_state=42)\n",
        "\n",
        "# Train model\n",
        "model = MultinomialNB(alpha=0.1)\n",
        "model.fit(X_train, y_train)\n",
        "\n",
        "# Function to predict new SMS messages\n",
        "def predict_sms(text):\n",
        "    processed_text = text_preprocess(text)\n",
        "    vectorized_text = vectorizer.transform([processed_text])\n",
        "    prediction = model.predict(vectorized_text)[0]\n",
        "    probability = model.predict_proba(vectorized_text)[0].max()  # Get the max confidence score\n",
        "    return \"Spam\" if prediction == 1 else \"Ham\", probability\n"
      ]
    },
    {
      "cell_type": "code",
      "source": [
        "sms = \"Free Gift.Special Offer. Get now\"\n",
        "label, confidence = predict_sms(sms)\n",
        "print(f\"Prediction: {label}, Confidence: {confidence:.2f}\")"
      ],
      "metadata": {
        "colab": {
          "base_uri": "https://localhost:8080/"
        },
        "id": "2GMW_fchicLR",
        "outputId": "43a52b50-7e4e-4108-ecb4-1da5a7ea0419"
      },
      "execution_count": null,
      "outputs": [
        {
          "output_type": "stream",
          "name": "stdout",
          "text": [
            "Prediction: Spam, Confidence: 0.74\n"
          ]
        }
      ]
    },
    {
      "cell_type": "code",
      "source": [
        "sms = \"Good Morning. Can we catch up?\"\n",
        "label, confidence = predict_sms(sms)\n",
        "print(f\"Prediction: {label}, Confidence: {confidence:.2f}\")"
      ],
      "metadata": {
        "colab": {
          "base_uri": "https://localhost:8080/"
        },
        "id": "Y9kzokmVimtQ",
        "outputId": "04bcb0f8-ce69-4bd2-8d00-42384c55389a"
      },
      "execution_count": null,
      "outputs": [
        {
          "output_type": "stream",
          "name": "stdout",
          "text": [
            "Prediction: Ham, Confidence: 1.00\n"
          ]
        }
      ]
    },
    {
      "cell_type": "code",
      "source": [
        "sms = \"Do participate in the Webinar.Click the below link\"\n",
        "label, confidence = predict_sms(sms)\n",
        "print(f\"Prediction: {label}, Confidence: {confidence:.2f}\")"
      ],
      "metadata": {
        "colab": {
          "base_uri": "https://localhost:8080/"
        },
        "id": "ICNyeKwQkRFI",
        "outputId": "5a835f77-2052-4218-e260-7652209f621a"
      },
      "execution_count": null,
      "outputs": [
        {
          "output_type": "stream",
          "name": "stdout",
          "text": [
            "Prediction: Ham, Confidence: 0.57\n"
          ]
        }
      ]
    },
    {
      "cell_type": "code",
      "source": [
        "sms = \"You have won 50000. Click here to claim!\"\n",
        "label, confidence = predict_sms(sms)\n",
        "print(f\"Prediction: {label}, Confidence: {confidence:.2f}\")"
      ],
      "metadata": {
        "colab": {
          "base_uri": "https://localhost:8080/"
        },
        "id": "6atPaEgDvzdY",
        "outputId": "3687743d-74e0-43d5-b2cc-0c20b872924e"
      },
      "execution_count": null,
      "outputs": [
        {
          "output_type": "stream",
          "name": "stdout",
          "text": [
            "Prediction: Spam, Confidence: 0.97\n"
          ]
        }
      ]
    }
  ]
}